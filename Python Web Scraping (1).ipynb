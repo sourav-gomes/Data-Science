{
 "cells": [
  {
   "cell_type": "code",
   "execution_count": 79,
   "id": "e1a5fe61",
   "metadata": {},
   "outputs": [],
   "source": [
    "from bs4 import BeautifulSoup\n",
    "import requests"
   ]
  },
  {
   "cell_type": "code",
   "execution_count": 80,
   "id": "5e857ef8",
   "metadata": {},
   "outputs": [],
   "source": [
    "url = 'https://en.wikipedia.org/wiki/List_of_largest_companies_in_the_United_States_by_revenue'\n",
    "page = requests.get(url)\n",
    "soup = BeautifulSoup(page.text, 'html')"
   ]
  },
  {
   "cell_type": "code",
   "execution_count": 81,
   "id": "8067a058",
   "metadata": {},
   "outputs": [],
   "source": [
    "# print(soup)"
   ]
  },
  {
   "cell_type": "code",
   "execution_count": 82,
   "id": "d0baeda5",
   "metadata": {},
   "outputs": [],
   "source": [
    "# <table class=\"wikitable sortable jquery-tablesorter\">\n",
    "# soup.find('table', class_ = 'wikitable sortable')"
   ]
  },
  {
   "cell_type": "code",
   "execution_count": 83,
   "id": "7cce2f08",
   "metadata": {},
   "outputs": [],
   "source": [
    "# Since find_all give a list we can iterate the list index\n",
    "table = soup.find_all('table')[1]\n",
    "# print(table)"
   ]
  },
  {
   "cell_type": "code",
   "execution_count": 84,
   "id": "dc6b3779",
   "metadata": {},
   "outputs": [],
   "source": [
    "# Gives the same table from the list of table with class_ 'wikitable sortable'\n",
    "table2 = soup.find_all('table',class_ = 'wikitable sortable')[0]"
   ]
  },
  {
   "cell_type": "code",
   "execution_count": 85,
   "id": "82d42050",
   "metadata": {},
   "outputs": [],
   "source": [
    "# Pick out the headers with <th> tag\n",
    "table_headers = table.find_all('th')"
   ]
  },
  {
   "cell_type": "code",
   "execution_count": 86,
   "id": "98a1b7be",
   "metadata": {},
   "outputs": [
    {
     "name": "stdout",
     "output_type": "stream",
     "text": [
      "['Rank', 'Name', 'Industry', 'Revenue (USD millions)', 'Revenue growth', 'Employees', 'Headquarters']\n"
     ]
    }
   ],
   "source": [
    "# Using list comprehension to extract the headers\n",
    "table_title = [title.text.strip() for title in table_headers]\n",
    "print(table_title)"
   ]
  },
  {
   "cell_type": "code",
   "execution_count": 87,
   "id": "877ba593",
   "metadata": {},
   "outputs": [],
   "source": [
    "import pandas as pd"
   ]
  },
  {
   "cell_type": "code",
   "execution_count": 88,
   "id": "ffab320c",
   "metadata": {},
   "outputs": [
    {
     "data": {
      "text/html": [
       "<div>\n",
       "<style scoped>\n",
       "    .dataframe tbody tr th:only-of-type {\n",
       "        vertical-align: middle;\n",
       "    }\n",
       "\n",
       "    .dataframe tbody tr th {\n",
       "        vertical-align: top;\n",
       "    }\n",
       "\n",
       "    .dataframe thead th {\n",
       "        text-align: right;\n",
       "    }\n",
       "</style>\n",
       "<table border=\"1\" class=\"dataframe\">\n",
       "  <thead>\n",
       "    <tr style=\"text-align: right;\">\n",
       "      <th></th>\n",
       "      <th>Rank</th>\n",
       "      <th>Name</th>\n",
       "      <th>Industry</th>\n",
       "      <th>Revenue (USD millions)</th>\n",
       "      <th>Revenue growth</th>\n",
       "      <th>Employees</th>\n",
       "      <th>Headquarters</th>\n",
       "    </tr>\n",
       "  </thead>\n",
       "  <tbody>\n",
       "  </tbody>\n",
       "</table>\n",
       "</div>"
      ],
      "text/plain": [
       "Empty DataFrame\n",
       "Columns: [Rank, Name, Industry, Revenue (USD millions), Revenue growth, Employees, Headquarters]\n",
       "Index: []"
      ]
     },
     "execution_count": 88,
     "metadata": {},
     "output_type": "execute_result"
    }
   ],
   "source": [
    "# Create a pandas dataframe with the extracted titles\n",
    "df = pd.DataFrame(columns = table_title)\n",
    "df"
   ]
  },
  {
   "cell_type": "code",
   "execution_count": 89,
   "id": "458b5871",
   "metadata": {},
   "outputs": [],
   "source": [
    "# Find the row in table with 'tr'\n",
    "column_data = table.find_all('tr')"
   ]
  },
  {
   "cell_type": "code",
   "execution_count": 90,
   "id": "9e881a12",
   "metadata": {},
   "outputs": [],
   "source": [
    "# Iterating thru each row of data and adding them to the DataFrame\n",
    "for row in column_data[1:]:\n",
    "    row_data = row.find_all('td')\n",
    "    individual_row_data = [data.text.strip() for data in row_data]  # stripping data if extra spaces & '\\n'\n",
    "    length = len(df)\n",
    "    df.loc[length] = individual_row_data  # appending each row 1-by-1 to the dataframe"
   ]
  },
  {
   "cell_type": "code",
   "execution_count": 91,
   "id": "7dfc822d",
   "metadata": {},
   "outputs": [
    {
     "data": {
      "text/html": [
       "<div>\n",
       "<style scoped>\n",
       "    .dataframe tbody tr th:only-of-type {\n",
       "        vertical-align: middle;\n",
       "    }\n",
       "\n",
       "    .dataframe tbody tr th {\n",
       "        vertical-align: top;\n",
       "    }\n",
       "\n",
       "    .dataframe thead th {\n",
       "        text-align: right;\n",
       "    }\n",
       "</style>\n",
       "<table border=\"1\" class=\"dataframe\">\n",
       "  <thead>\n",
       "    <tr style=\"text-align: right;\">\n",
       "      <th></th>\n",
       "      <th>Rank</th>\n",
       "      <th>Name</th>\n",
       "      <th>Industry</th>\n",
       "      <th>Revenue (USD millions)</th>\n",
       "      <th>Revenue growth</th>\n",
       "      <th>Employees</th>\n",
       "      <th>Headquarters</th>\n",
       "    </tr>\n",
       "  </thead>\n",
       "  <tbody>\n",
       "    <tr>\n",
       "      <th>0</th>\n",
       "      <td>1</td>\n",
       "      <td>Walmart</td>\n",
       "      <td>General merchandisers</td>\n",
       "      <td>572,754</td>\n",
       "      <td>2.4%</td>\n",
       "      <td>2,300,000</td>\n",
       "      <td>Bentonville, Arkansas</td>\n",
       "    </tr>\n",
       "    <tr>\n",
       "      <th>1</th>\n",
       "      <td>2</td>\n",
       "      <td>Amazon</td>\n",
       "      <td>Retail and Cloud Computing</td>\n",
       "      <td>469,822</td>\n",
       "      <td>21.7%</td>\n",
       "      <td>1,608,000</td>\n",
       "      <td>Seattle, Washington</td>\n",
       "    </tr>\n",
       "    <tr>\n",
       "      <th>2</th>\n",
       "      <td>3</td>\n",
       "      <td>Apple</td>\n",
       "      <td>Electronics industry</td>\n",
       "      <td>365,817</td>\n",
       "      <td>33.2%</td>\n",
       "      <td>154,000</td>\n",
       "      <td>Cupertino, California</td>\n",
       "    </tr>\n",
       "    <tr>\n",
       "      <th>3</th>\n",
       "      <td>4</td>\n",
       "      <td>CVS Health</td>\n",
       "      <td>Healthcare</td>\n",
       "      <td>292,111</td>\n",
       "      <td>32.0%</td>\n",
       "      <td>258,000</td>\n",
       "      <td>Woonsocket, Rhode Island</td>\n",
       "    </tr>\n",
       "    <tr>\n",
       "      <th>4</th>\n",
       "      <td>5</td>\n",
       "      <td>UnitedHealth Group</td>\n",
       "      <td>Healthcare</td>\n",
       "      <td>287,597</td>\n",
       "      <td>11.8%</td>\n",
       "      <td>350,000</td>\n",
       "      <td>Minnetonka, Minnesota</td>\n",
       "    </tr>\n",
       "    <tr>\n",
       "      <th>...</th>\n",
       "      <td>...</td>\n",
       "      <td>...</td>\n",
       "      <td>...</td>\n",
       "      <td>...</td>\n",
       "      <td>...</td>\n",
       "      <td>...</td>\n",
       "      <td>...</td>\n",
       "    </tr>\n",
       "    <tr>\n",
       "      <th>95</th>\n",
       "      <td>96</td>\n",
       "      <td>General Dynamics</td>\n",
       "      <td>Airspace and defense</td>\n",
       "      <td>38,469</td>\n",
       "      <td>8.7%</td>\n",
       "      <td>103,100</td>\n",
       "      <td>Reston, Virginia</td>\n",
       "    </tr>\n",
       "    <tr>\n",
       "      <th>96</th>\n",
       "      <td>97</td>\n",
       "      <td>CHS</td>\n",
       "      <td>Agriculture cooperative</td>\n",
       "      <td>38,448</td>\n",
       "      <td>1.4%</td>\n",
       "      <td>9,941</td>\n",
       "      <td>Inver Grove Heights, Minnesota</td>\n",
       "    </tr>\n",
       "    <tr>\n",
       "      <th>97</th>\n",
       "      <td>98</td>\n",
       "      <td>USAA</td>\n",
       "      <td>Financials</td>\n",
       "      <td>37,470</td>\n",
       "      <td>3.2%</td>\n",
       "      <td>37,335</td>\n",
       "      <td>San Antonio, Texas</td>\n",
       "    </tr>\n",
       "    <tr>\n",
       "      <th>98</th>\n",
       "      <td>99</td>\n",
       "      <td>Northwestern Mutual</td>\n",
       "      <td>Insurance</td>\n",
       "      <td>36,751</td>\n",
       "      <td>8.8%</td>\n",
       "      <td>7,585</td>\n",
       "      <td>Milwaukee, Wisconsin</td>\n",
       "    </tr>\n",
       "    <tr>\n",
       "      <th>99</th>\n",
       "      <td>100</td>\n",
       "      <td>Nucor</td>\n",
       "      <td>Metals</td>\n",
       "      <td>36,484</td>\n",
       "      <td>81.2%</td>\n",
       "      <td>28,800</td>\n",
       "      <td>Charlotte, North Carolina</td>\n",
       "    </tr>\n",
       "  </tbody>\n",
       "</table>\n",
       "<p>100 rows × 7 columns</p>\n",
       "</div>"
      ],
      "text/plain": [
       "   Rank                 Name                    Industry  \\\n",
       "0     1              Walmart       General merchandisers   \n",
       "1     2               Amazon  Retail and Cloud Computing   \n",
       "2     3                Apple        Electronics industry   \n",
       "3     4           CVS Health                  Healthcare   \n",
       "4     5   UnitedHealth Group                  Healthcare   \n",
       "..  ...                  ...                         ...   \n",
       "95   96     General Dynamics        Airspace and defense   \n",
       "96   97                  CHS     Agriculture cooperative   \n",
       "97   98                 USAA                  Financials   \n",
       "98   99  Northwestern Mutual                   Insurance   \n",
       "99  100                Nucor                      Metals   \n",
       "\n",
       "   Revenue (USD millions) Revenue growth  Employees  \\\n",
       "0                 572,754           2.4%  2,300,000   \n",
       "1                 469,822          21.7%  1,608,000   \n",
       "2                 365,817          33.2%    154,000   \n",
       "3                 292,111          32.0%    258,000   \n",
       "4                 287,597          11.8%    350,000   \n",
       "..                    ...            ...        ...   \n",
       "95                 38,469           8.7%    103,100   \n",
       "96                 38,448           1.4%      9,941   \n",
       "97                 37,470           3.2%     37,335   \n",
       "98                 36,751           8.8%      7,585   \n",
       "99                 36,484          81.2%     28,800   \n",
       "\n",
       "                      Headquarters  \n",
       "0            Bentonville, Arkansas  \n",
       "1              Seattle, Washington  \n",
       "2            Cupertino, California  \n",
       "3         Woonsocket, Rhode Island  \n",
       "4            Minnetonka, Minnesota  \n",
       "..                             ...  \n",
       "95                Reston, Virginia  \n",
       "96  Inver Grove Heights, Minnesota  \n",
       "97              San Antonio, Texas  \n",
       "98            Milwaukee, Wisconsin  \n",
       "99       Charlotte, North Carolina  \n",
       "\n",
       "[100 rows x 7 columns]"
      ]
     },
     "execution_count": 91,
     "metadata": {},
     "output_type": "execute_result"
    }
   ],
   "source": [
    "df"
   ]
  },
  {
   "cell_type": "code",
   "execution_count": 92,
   "id": "ad363c32",
   "metadata": {},
   "outputs": [],
   "source": [
    "# Export webscrapped data to CSV\n",
    "df.to_csv(r'C:\\Users\\soura\\Downloads\\python\\Alex Freberg\\List_Of_Largest_Companies_US.csv', index=False)"
   ]
  },
  {
   "cell_type": "code",
   "execution_count": null,
   "id": "edde42e5",
   "metadata": {},
   "outputs": [],
   "source": []
  }
 ],
 "metadata": {
  "kernelspec": {
   "display_name": "Python 3 (ipykernel)",
   "language": "python",
   "name": "python3"
  },
  "language_info": {
   "codemirror_mode": {
    "name": "ipython",
    "version": 3
   },
   "file_extension": ".py",
   "mimetype": "text/x-python",
   "name": "python",
   "nbconvert_exporter": "python",
   "pygments_lexer": "ipython3",
   "version": "3.9.13"
  }
 },
 "nbformat": 4,
 "nbformat_minor": 5
}
